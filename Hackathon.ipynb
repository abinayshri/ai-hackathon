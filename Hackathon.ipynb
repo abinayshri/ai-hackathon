{
  "nbformat": 4,
  "nbformat_minor": 0,
  "metadata": {
    "colab": {
      "provenance": []
    },
    "kernelspec": {
      "name": "python3",
      "display_name": "Python 3"
    },
    "language_info": {
      "name": "python"
    }
  },
  "cells": [
    {
      "cell_type": "code",
      "execution_count": null,
      "metadata": {
        "colab": {
          "base_uri": "https://localhost:8080/",
          "height": 833
        },
        "id": "7MYFCyQ1emU2",
        "outputId": "77722333-d067-4267-a316-f96b36a87e57"
      },
      "outputs": [
        {
          "output_type": "execute_result",
          "data": {
            "text/plain": [
              "    Unnamed: 0  Survived  Pclass           Name     Sex  Age  \\\n",
              "0            0         0       3         Braund    male   22   \n",
              "1            1         1       1        Cumings  female   38   \n",
              "2            2         1       3      Heikkinen  female   26   \n",
              "3            3         1       1       Futrelle  female   35   \n",
              "4            4         0       3          Allen    male   35   \n",
              "5            5         0       3          Moran    male   43   \n",
              "6            6         0       1       McCarthy    male   54   \n",
              "7            7         0       3        Palsson    male   40   \n",
              "8            8         1       3        Johnson  female   27   \n",
              "9            9         1       2         Nasser  female   26   \n",
              "10          10         1       3      Sandstrom  female   24   \n",
              "11          11         1       1        Bonnell  female   58   \n",
              "12          12         0       3    Saundercock    male   20   \n",
              "13          13         0       3      Andersson    male   39   \n",
              "14          14         0       3        Vestrom  female   26   \n",
              "15          15         1       2        Hewlett  female   55   \n",
              "16          16         0       3           Rice    male   43   \n",
              "17          17         1       2       Williams    male   42   \n",
              "18          18         0       3  Vander Planke  female   31   \n",
              "19          19         1       3     Masselmani  female   23   \n",
              "20          20         0       2         Fynney    male   35   \n",
              "21          21         1       2        Beesley    male   34   \n",
              "22          22         1       3        McGowan  female   52   \n",
              "23          23         1       1         Sloper    male   28   \n",
              "24          24         0       3        Palsson  female   48   \n",
              "\n",
              "              Ticket     Fare Embarked  Concession   New_Fare  \n",
              "0          A/5 21171  53.1000        S        16.1  61.649100  \n",
              "1           PC 17599  13.0000        C        17.5  15.275000  \n",
              "2   STON/O2. 3101282  31.2750        S        16.4  36.404100  \n",
              "3             113803  18.0000        S        17.4  21.132000  \n",
              "4             373450  16.7000        S        17.4  19.605800  \n",
              "5             330877   8.0500        Q        18.7   9.555350  \n",
              "6              17463   7.8542        S        19.5   9.385769  \n",
              "7             349909  11.1333        Q        18.0  13.137294  \n",
              "8             347742  26.5500        S        16.6  30.957300  \n",
              "9             237736  30.0708        C        16.4  35.002411  \n",
              "10           PP 9549  35.5000        S        16.3  41.286500  \n",
              "11            113783   7.2250        S        20.0   8.670000  \n",
              "12         A/5. 2151  71.2833        S        16.0  82.688628  \n",
              "13            347082  13.0000        Q        17.8  15.314000  \n",
              "14            350406  29.1250        S        16.4  33.901500  \n",
              "15            248706   7.2500        S        19.8   8.685500  \n",
              "16            382652   8.0500        Q        18.7   9.555350  \n",
              "17            244373   8.4583        S        18.3  10.006169  \n",
              "18            345763  21.0750        S        17.0  24.657750  \n",
              "19              2649  51.8625        C        16.2  60.264225  \n",
              "20            239865  16.0000        S        17.4  18.784000  \n",
              "21            248698  21.0750        S        17.2  24.699900  \n",
              "22            330923   7.9250        Q        19.2   9.446600  \n",
              "23            113788  26.0000        S        16.8  30.368000  \n",
              "24            349909   8.0292        S        19.0   9.554748  "
            ],
            "text/html": [
              "\n",
              "  <div id=\"df-cce660df-4103-4928-b5e7-8975292fb69c\">\n",
              "    <div class=\"colab-df-container\">\n",
              "      <div>\n",
              "<style scoped>\n",
              "    .dataframe tbody tr th:only-of-type {\n",
              "        vertical-align: middle;\n",
              "    }\n",
              "\n",
              "    .dataframe tbody tr th {\n",
              "        vertical-align: top;\n",
              "    }\n",
              "\n",
              "    .dataframe thead th {\n",
              "        text-align: right;\n",
              "    }\n",
              "</style>\n",
              "<table border=\"1\" class=\"dataframe\">\n",
              "  <thead>\n",
              "    <tr style=\"text-align: right;\">\n",
              "      <th></th>\n",
              "      <th>Unnamed: 0</th>\n",
              "      <th>Survived</th>\n",
              "      <th>Pclass</th>\n",
              "      <th>Name</th>\n",
              "      <th>Sex</th>\n",
              "      <th>Age</th>\n",
              "      <th>Ticket</th>\n",
              "      <th>Fare</th>\n",
              "      <th>Embarked</th>\n",
              "      <th>Concession</th>\n",
              "      <th>New_Fare</th>\n",
              "    </tr>\n",
              "  </thead>\n",
              "  <tbody>\n",
              "    <tr>\n",
              "      <th>0</th>\n",
              "      <td>0</td>\n",
              "      <td>0</td>\n",
              "      <td>3</td>\n",
              "      <td>Braund</td>\n",
              "      <td>male</td>\n",
              "      <td>22</td>\n",
              "      <td>A/5 21171</td>\n",
              "      <td>53.1000</td>\n",
              "      <td>S</td>\n",
              "      <td>16.1</td>\n",
              "      <td>61.649100</td>\n",
              "    </tr>\n",
              "    <tr>\n",
              "      <th>1</th>\n",
              "      <td>1</td>\n",
              "      <td>1</td>\n",
              "      <td>1</td>\n",
              "      <td>Cumings</td>\n",
              "      <td>female</td>\n",
              "      <td>38</td>\n",
              "      <td>PC 17599</td>\n",
              "      <td>13.0000</td>\n",
              "      <td>C</td>\n",
              "      <td>17.5</td>\n",
              "      <td>15.275000</td>\n",
              "    </tr>\n",
              "    <tr>\n",
              "      <th>2</th>\n",
              "      <td>2</td>\n",
              "      <td>1</td>\n",
              "      <td>3</td>\n",
              "      <td>Heikkinen</td>\n",
              "      <td>female</td>\n",
              "      <td>26</td>\n",
              "      <td>STON/O2. 3101282</td>\n",
              "      <td>31.2750</td>\n",
              "      <td>S</td>\n",
              "      <td>16.4</td>\n",
              "      <td>36.404100</td>\n",
              "    </tr>\n",
              "    <tr>\n",
              "      <th>3</th>\n",
              "      <td>3</td>\n",
              "      <td>1</td>\n",
              "      <td>1</td>\n",
              "      <td>Futrelle</td>\n",
              "      <td>female</td>\n",
              "      <td>35</td>\n",
              "      <td>113803</td>\n",
              "      <td>18.0000</td>\n",
              "      <td>S</td>\n",
              "      <td>17.4</td>\n",
              "      <td>21.132000</td>\n",
              "    </tr>\n",
              "    <tr>\n",
              "      <th>4</th>\n",
              "      <td>4</td>\n",
              "      <td>0</td>\n",
              "      <td>3</td>\n",
              "      <td>Allen</td>\n",
              "      <td>male</td>\n",
              "      <td>35</td>\n",
              "      <td>373450</td>\n",
              "      <td>16.7000</td>\n",
              "      <td>S</td>\n",
              "      <td>17.4</td>\n",
              "      <td>19.605800</td>\n",
              "    </tr>\n",
              "    <tr>\n",
              "      <th>5</th>\n",
              "      <td>5</td>\n",
              "      <td>0</td>\n",
              "      <td>3</td>\n",
              "      <td>Moran</td>\n",
              "      <td>male</td>\n",
              "      <td>43</td>\n",
              "      <td>330877</td>\n",
              "      <td>8.0500</td>\n",
              "      <td>Q</td>\n",
              "      <td>18.7</td>\n",
              "      <td>9.555350</td>\n",
              "    </tr>\n",
              "    <tr>\n",
              "      <th>6</th>\n",
              "      <td>6</td>\n",
              "      <td>0</td>\n",
              "      <td>1</td>\n",
              "      <td>McCarthy</td>\n",
              "      <td>male</td>\n",
              "      <td>54</td>\n",
              "      <td>17463</td>\n",
              "      <td>7.8542</td>\n",
              "      <td>S</td>\n",
              "      <td>19.5</td>\n",
              "      <td>9.385769</td>\n",
              "    </tr>\n",
              "    <tr>\n",
              "      <th>7</th>\n",
              "      <td>7</td>\n",
              "      <td>0</td>\n",
              "      <td>3</td>\n",
              "      <td>Palsson</td>\n",
              "      <td>male</td>\n",
              "      <td>40</td>\n",
              "      <td>349909</td>\n",
              "      <td>11.1333</td>\n",
              "      <td>Q</td>\n",
              "      <td>18.0</td>\n",
              "      <td>13.137294</td>\n",
              "    </tr>\n",
              "    <tr>\n",
              "      <th>8</th>\n",
              "      <td>8</td>\n",
              "      <td>1</td>\n",
              "      <td>3</td>\n",
              "      <td>Johnson</td>\n",
              "      <td>female</td>\n",
              "      <td>27</td>\n",
              "      <td>347742</td>\n",
              "      <td>26.5500</td>\n",
              "      <td>S</td>\n",
              "      <td>16.6</td>\n",
              "      <td>30.957300</td>\n",
              "    </tr>\n",
              "    <tr>\n",
              "      <th>9</th>\n",
              "      <td>9</td>\n",
              "      <td>1</td>\n",
              "      <td>2</td>\n",
              "      <td>Nasser</td>\n",
              "      <td>female</td>\n",
              "      <td>26</td>\n",
              "      <td>237736</td>\n",
              "      <td>30.0708</td>\n",
              "      <td>C</td>\n",
              "      <td>16.4</td>\n",
              "      <td>35.002411</td>\n",
              "    </tr>\n",
              "    <tr>\n",
              "      <th>10</th>\n",
              "      <td>10</td>\n",
              "      <td>1</td>\n",
              "      <td>3</td>\n",
              "      <td>Sandstrom</td>\n",
              "      <td>female</td>\n",
              "      <td>24</td>\n",
              "      <td>PP 9549</td>\n",
              "      <td>35.5000</td>\n",
              "      <td>S</td>\n",
              "      <td>16.3</td>\n",
              "      <td>41.286500</td>\n",
              "    </tr>\n",
              "    <tr>\n",
              "      <th>11</th>\n",
              "      <td>11</td>\n",
              "      <td>1</td>\n",
              "      <td>1</td>\n",
              "      <td>Bonnell</td>\n",
              "      <td>female</td>\n",
              "      <td>58</td>\n",
              "      <td>113783</td>\n",
              "      <td>7.2250</td>\n",
              "      <td>S</td>\n",
              "      <td>20.0</td>\n",
              "      <td>8.670000</td>\n",
              "    </tr>\n",
              "    <tr>\n",
              "      <th>12</th>\n",
              "      <td>12</td>\n",
              "      <td>0</td>\n",
              "      <td>3</td>\n",
              "      <td>Saundercock</td>\n",
              "      <td>male</td>\n",
              "      <td>20</td>\n",
              "      <td>A/5. 2151</td>\n",
              "      <td>71.2833</td>\n",
              "      <td>S</td>\n",
              "      <td>16.0</td>\n",
              "      <td>82.688628</td>\n",
              "    </tr>\n",
              "    <tr>\n",
              "      <th>13</th>\n",
              "      <td>13</td>\n",
              "      <td>0</td>\n",
              "      <td>3</td>\n",
              "      <td>Andersson</td>\n",
              "      <td>male</td>\n",
              "      <td>39</td>\n",
              "      <td>347082</td>\n",
              "      <td>13.0000</td>\n",
              "      <td>Q</td>\n",
              "      <td>17.8</td>\n",
              "      <td>15.314000</td>\n",
              "    </tr>\n",
              "    <tr>\n",
              "      <th>14</th>\n",
              "      <td>14</td>\n",
              "      <td>0</td>\n",
              "      <td>3</td>\n",
              "      <td>Vestrom</td>\n",
              "      <td>female</td>\n",
              "      <td>26</td>\n",
              "      <td>350406</td>\n",
              "      <td>29.1250</td>\n",
              "      <td>S</td>\n",
              "      <td>16.4</td>\n",
              "      <td>33.901500</td>\n",
              "    </tr>\n",
              "    <tr>\n",
              "      <th>15</th>\n",
              "      <td>15</td>\n",
              "      <td>1</td>\n",
              "      <td>2</td>\n",
              "      <td>Hewlett</td>\n",
              "      <td>female</td>\n",
              "      <td>55</td>\n",
              "      <td>248706</td>\n",
              "      <td>7.2500</td>\n",
              "      <td>S</td>\n",
              "      <td>19.8</td>\n",
              "      <td>8.685500</td>\n",
              "    </tr>\n",
              "    <tr>\n",
              "      <th>16</th>\n",
              "      <td>16</td>\n",
              "      <td>0</td>\n",
              "      <td>3</td>\n",
              "      <td>Rice</td>\n",
              "      <td>male</td>\n",
              "      <td>43</td>\n",
              "      <td>382652</td>\n",
              "      <td>8.0500</td>\n",
              "      <td>Q</td>\n",
              "      <td>18.7</td>\n",
              "      <td>9.555350</td>\n",
              "    </tr>\n",
              "    <tr>\n",
              "      <th>17</th>\n",
              "      <td>17</td>\n",
              "      <td>1</td>\n",
              "      <td>2</td>\n",
              "      <td>Williams</td>\n",
              "      <td>male</td>\n",
              "      <td>42</td>\n",
              "      <td>244373</td>\n",
              "      <td>8.4583</td>\n",
              "      <td>S</td>\n",
              "      <td>18.3</td>\n",
              "      <td>10.006169</td>\n",
              "    </tr>\n",
              "    <tr>\n",
              "      <th>18</th>\n",
              "      <td>18</td>\n",
              "      <td>0</td>\n",
              "      <td>3</td>\n",
              "      <td>Vander Planke</td>\n",
              "      <td>female</td>\n",
              "      <td>31</td>\n",
              "      <td>345763</td>\n",
              "      <td>21.0750</td>\n",
              "      <td>S</td>\n",
              "      <td>17.0</td>\n",
              "      <td>24.657750</td>\n",
              "    </tr>\n",
              "    <tr>\n",
              "      <th>19</th>\n",
              "      <td>19</td>\n",
              "      <td>1</td>\n",
              "      <td>3</td>\n",
              "      <td>Masselmani</td>\n",
              "      <td>female</td>\n",
              "      <td>23</td>\n",
              "      <td>2649</td>\n",
              "      <td>51.8625</td>\n",
              "      <td>C</td>\n",
              "      <td>16.2</td>\n",
              "      <td>60.264225</td>\n",
              "    </tr>\n",
              "    <tr>\n",
              "      <th>20</th>\n",
              "      <td>20</td>\n",
              "      <td>0</td>\n",
              "      <td>2</td>\n",
              "      <td>Fynney</td>\n",
              "      <td>male</td>\n",
              "      <td>35</td>\n",
              "      <td>239865</td>\n",
              "      <td>16.0000</td>\n",
              "      <td>S</td>\n",
              "      <td>17.4</td>\n",
              "      <td>18.784000</td>\n",
              "    </tr>\n",
              "    <tr>\n",
              "      <th>21</th>\n",
              "      <td>21</td>\n",
              "      <td>1</td>\n",
              "      <td>2</td>\n",
              "      <td>Beesley</td>\n",
              "      <td>male</td>\n",
              "      <td>34</td>\n",
              "      <td>248698</td>\n",
              "      <td>21.0750</td>\n",
              "      <td>S</td>\n",
              "      <td>17.2</td>\n",
              "      <td>24.699900</td>\n",
              "    </tr>\n",
              "    <tr>\n",
              "      <th>22</th>\n",
              "      <td>22</td>\n",
              "      <td>1</td>\n",
              "      <td>3</td>\n",
              "      <td>McGowan</td>\n",
              "      <td>female</td>\n",
              "      <td>52</td>\n",
              "      <td>330923</td>\n",
              "      <td>7.9250</td>\n",
              "      <td>Q</td>\n",
              "      <td>19.2</td>\n",
              "      <td>9.446600</td>\n",
              "    </tr>\n",
              "    <tr>\n",
              "      <th>23</th>\n",
              "      <td>23</td>\n",
              "      <td>1</td>\n",
              "      <td>1</td>\n",
              "      <td>Sloper</td>\n",
              "      <td>male</td>\n",
              "      <td>28</td>\n",
              "      <td>113788</td>\n",
              "      <td>26.0000</td>\n",
              "      <td>S</td>\n",
              "      <td>16.8</td>\n",
              "      <td>30.368000</td>\n",
              "    </tr>\n",
              "    <tr>\n",
              "      <th>24</th>\n",
              "      <td>24</td>\n",
              "      <td>0</td>\n",
              "      <td>3</td>\n",
              "      <td>Palsson</td>\n",
              "      <td>female</td>\n",
              "      <td>48</td>\n",
              "      <td>349909</td>\n",
              "      <td>8.0292</td>\n",
              "      <td>S</td>\n",
              "      <td>19.0</td>\n",
              "      <td>9.554748</td>\n",
              "    </tr>\n",
              "  </tbody>\n",
              "</table>\n",
              "</div>\n",
              "      <button class=\"colab-df-convert\" onclick=\"convertToInteractive('df-cce660df-4103-4928-b5e7-8975292fb69c')\"\n",
              "              title=\"Convert this dataframe to an interactive table.\"\n",
              "              style=\"display:none;\">\n",
              "        \n",
              "  <svg xmlns=\"http://www.w3.org/2000/svg\" height=\"24px\"viewBox=\"0 0 24 24\"\n",
              "       width=\"24px\">\n",
              "    <path d=\"M0 0h24v24H0V0z\" fill=\"none\"/>\n",
              "    <path d=\"M18.56 5.44l.94 2.06.94-2.06 2.06-.94-2.06-.94-.94-2.06-.94 2.06-2.06.94zm-11 1L8.5 8.5l.94-2.06 2.06-.94-2.06-.94L8.5 2.5l-.94 2.06-2.06.94zm10 10l.94 2.06.94-2.06 2.06-.94-2.06-.94-.94-2.06-.94 2.06-2.06.94z\"/><path d=\"M17.41 7.96l-1.37-1.37c-.4-.4-.92-.59-1.43-.59-.52 0-1.04.2-1.43.59L10.3 9.45l-7.72 7.72c-.78.78-.78 2.05 0 2.83L4 21.41c.39.39.9.59 1.41.59.51 0 1.02-.2 1.41-.59l7.78-7.78 2.81-2.81c.8-.78.8-2.07 0-2.86zM5.41 20L4 18.59l7.72-7.72 1.47 1.35L5.41 20z\"/>\n",
              "  </svg>\n",
              "      </button>\n",
              "      \n",
              "  <style>\n",
              "    .colab-df-container {\n",
              "      display:flex;\n",
              "      flex-wrap:wrap;\n",
              "      gap: 12px;\n",
              "    }\n",
              "\n",
              "    .colab-df-convert {\n",
              "      background-color: #E8F0FE;\n",
              "      border: none;\n",
              "      border-radius: 50%;\n",
              "      cursor: pointer;\n",
              "      display: none;\n",
              "      fill: #1967D2;\n",
              "      height: 32px;\n",
              "      padding: 0 0 0 0;\n",
              "      width: 32px;\n",
              "    }\n",
              "\n",
              "    .colab-df-convert:hover {\n",
              "      background-color: #E2EBFA;\n",
              "      box-shadow: 0px 1px 2px rgba(60, 64, 67, 0.3), 0px 1px 3px 1px rgba(60, 64, 67, 0.15);\n",
              "      fill: #174EA6;\n",
              "    }\n",
              "\n",
              "    [theme=dark] .colab-df-convert {\n",
              "      background-color: #3B4455;\n",
              "      fill: #D2E3FC;\n",
              "    }\n",
              "\n",
              "    [theme=dark] .colab-df-convert:hover {\n",
              "      background-color: #434B5C;\n",
              "      box-shadow: 0px 1px 3px 1px rgba(0, 0, 0, 0.15);\n",
              "      filter: drop-shadow(0px 1px 2px rgba(0, 0, 0, 0.3));\n",
              "      fill: #FFFFFF;\n",
              "    }\n",
              "  </style>\n",
              "\n",
              "      <script>\n",
              "        const buttonEl =\n",
              "          document.querySelector('#df-cce660df-4103-4928-b5e7-8975292fb69c button.colab-df-convert');\n",
              "        buttonEl.style.display =\n",
              "          google.colab.kernel.accessAllowed ? 'block' : 'none';\n",
              "\n",
              "        async function convertToInteractive(key) {\n",
              "          const element = document.querySelector('#df-cce660df-4103-4928-b5e7-8975292fb69c');\n",
              "          const dataTable =\n",
              "            await google.colab.kernel.invokeFunction('convertToInteractive',\n",
              "                                                     [key], {});\n",
              "          if (!dataTable) return;\n",
              "\n",
              "          const docLinkHtml = 'Like what you see? Visit the ' +\n",
              "            '<a target=\"_blank\" href=https://colab.research.google.com/notebooks/data_table.ipynb>data table notebook</a>'\n",
              "            + ' to learn more about interactive tables.';\n",
              "          element.innerHTML = '';\n",
              "          dataTable['output_type'] = 'display_data';\n",
              "          await google.colab.output.renderOutput(dataTable, element);\n",
              "          const docLink = document.createElement('div');\n",
              "          docLink.innerHTML = docLinkHtml;\n",
              "          element.appendChild(docLink);\n",
              "        }\n",
              "      </script>\n",
              "    </div>\n",
              "  </div>\n",
              "  "
            ]
          },
          "metadata": {},
          "execution_count": 1
        }
      ],
      "source": [
        "path = '/content/Titanic_visu.csv'\n",
        "import pandas as pd\n",
        "df = pd.read_csv(path)\n",
        "df"
      ]
    },
    {
      "cell_type": "code",
      "source": [
        "#1. Draw a bar chart with Embarked and its count (use different colors for each team)\n",
        "import matplotlib.pyplot as plt\n",
        "plt.figure(figsize=(12,5))\n",
        "data = df['Embarked'].value_counts()\n",
        "plt.bar(data.index, data.values, color = ['b', 'r', 'y'])"
      ],
      "metadata": {
        "colab": {
          "base_uri": "https://localhost:8080/",
          "height": 337
        },
        "id": "rHxTrL6wi-iH",
        "outputId": "7fcea7d9-711c-431e-ecab-83745c5ed2b9"
      },
      "execution_count": null,
      "outputs": [
        {
          "output_type": "execute_result",
          "data": {
            "text/plain": [
              "<BarContainer object of 3 artists>"
            ]
          },
          "metadata": {},
          "execution_count": 15
        },
        {
          "output_type": "display_data",
          "data": {
            "text/plain": [
              "<Figure size 864x360 with 1 Axes>"
            ],
            "image/png": "[encoded data removed]"
          },
          "metadata": {
            "needs_background": "light"
          }
        }
      ]
    },
    {
      "cell_type": "code",
      "source": [
        "#2. Draw a comparative bar chart for Fare and New_Fare against each person (first 15 persons)\n",
        "import numpy as np\n",
        "N = 15\n",
        "plt.figure(figsize = (15, 15))\n",
        "#see the spelling of arrange\n",
        "ind = np.arange(N)\n",
        "width = 0.25 \n",
        "xval = df['Fare'].head(15)\n",
        "\n",
        "bar1 = plt.bar(ind, xval, width, color = 'r')\n",
        "yval = df['New_Fare'].head(15)\n",
        "bar2 = plt.bar(ind + width, yval, width, color = 'b')\n",
        "\n",
        "#comparitive charts should always have legends\n",
        "\n",
        "plt.xlabel('Name')\n",
        "plt.ylabel('Fare')\n",
        "plt.xticks(ind + width, df['Name'].head(15))\n",
        "plt.legend((bar1, bar2),('Fare', 'New_Fare'))"
      ],
      "metadata": {
        "colab": {
          "base_uri": "https://localhost:8080/",
          "height": 894
        },
        "id": "ovUnR3HxjRH_",
        "outputId": "0099390f-e63a-4de2-d873-8259876eced9"
      },
      "execution_count": null,
      "outputs": [
        {
          "output_type": "execute_result",
          "data": {
            "text/plain": [
              "<matplotlib.legend.Legend at 0x7f7f48043ac0>"
            ]
          },
          "metadata": {},
          "execution_count": 16
        },
        {
          "output_type": "display_data",
          "data": {
            "text/plain": [
              "<Figure size 1080x1080 with 1 Axes>"
            ],
            "image/png": "[encoded data removed]"
          },
          "metadata": {
            "needs_background": "light"
          }
        }
      ]
    },
    {
      "cell_type": "code",
      "source": [
        "#3. Draw a horizontal bar chart for Embarked and Fare\n",
        "plt.barh(df['Embarked'],df['Fare'] )\n",
        "plt.title(\"Embarked vs Fare\")\n",
        "plt.xlabel(\"Embarked\")\n",
        "plt.ylabel(\"Fare\")"
      ],
      "metadata": {
        "colab": {
          "base_uri": "https://localhost:8080/",
          "height": 312
        },
        "id": "5PXLObcJjcKD",
        "outputId": "ca0720f1-1e2d-44e0-e8ab-77601deb0cee"
      },
      "execution_count": null,
      "outputs": [
        {
          "output_type": "execute_result",
          "data": {
            "text/plain": [
              "Text(0, 0.5, 'Fare')"
            ]
          },
          "metadata": {},
          "execution_count": 17
        },
        {
          "output_type": "display_data",
          "data": {
            "text/plain": [
              "<Figure size 432x288 with 1 Axes>"
            ],
            "image/png": "[encoded data removed]"
          },
          "metadata": {
            "needs_background": "light"
          }
        }
      ]
    },
    {
      "cell_type": "code",
      "source": [
        "#4. Draw a stacked bar chart for Fare and New_Fare against the person (first 10 persons)\n",
        "plt.figure(figsize=(9,5))\n",
        "plt.bar(df['Name'].head(10), df['Fare'].head(10))\n",
        "plt.bar(df['Name'].head(10), df['New_Fare'].head(10), bottom = df['Fare'].head(10))"
      ],
      "metadata": {
        "colab": {
          "base_uri": "https://localhost:8080/",
          "height": 340
        },
        "id": "r8oN5h94juhW",
        "outputId": "9103bcdd-edb0-46d5-ee05-97290f9db548"
      },
      "execution_count": null,
      "outputs": [
        {
          "output_type": "execute_result",
          "data": {
            "text/plain": [
              "<BarContainer object of 10 artists>"
            ]
          },
          "metadata": {},
          "execution_count": 19
        },
        {
          "output_type": "display_data",
          "data": {
            "text/plain": [
              "<Figure size 648x360 with 1 Axes>"
            ],
            "image/png": "[encoded data removed]"
          },
          "metadata": {
            "needs_background": "light"
          }
        }
      ]
    },
    {
      "cell_type": "code",
      "source": [
        "#5. Draw a pie chart with Passenger class and its count\n",
        "data = df['Embarked'].value_counts()\n",
        "plt.pie(data.values, labels = data.index, autopct = \"%1.1f%%\");"
      ],
      "metadata": {
        "colab": {
          "base_uri": "https://localhost:8080/",
          "height": 248
        },
        "id": "4R9c1AFmhp4Z",
        "outputId": "cad551a4-164a-4e2e-ce9a-82fbf818cf98"
      },
      "execution_count": null,
      "outputs": [
        {
          "output_type": "display_data",
          "data": {
            "text/plain": [
              "<Figure size 432x288 with 1 Axes>"
            ],
            "image/png": "[encoded data removed]"
          },
          "metadata": {}
        }
      ]
    },
    {
      "cell_type": "code",
      "source": [
        "#6. Draw the dot plot between person and age (first 15 persons)\n",
        "plt.figure(figsize=(12,5))\n",
        "plt.plot(df['Name'].head(15), df['Age'].head(15),linewidth=0, marker = 'o', color = 'red')"
      ],
      "metadata": {
        "colab": {
          "base_uri": "https://localhost:8080/",
          "height": 337
        },
        "id": "kY66vUokhHTO",
        "outputId": "ddafe076-4b2c-4d6c-84b9-623bd3a75eca"
      },
      "execution_count": null,
      "outputs": [
        {
          "output_type": "execute_result",
          "data": {
            "text/plain": [
              "[<matplotlib.lines.Line2D at 0x7f7f41bdbb80>]"
            ]
          },
          "metadata": {},
          "execution_count": 11
        },
        {
          "output_type": "display_data",
          "data": {
            "text/plain": [
              "<Figure size 864x360 with 1 Axes>"
            ],
            "image/png": "[encoded data removed]"
          },
          "metadata": {
            "needs_background": "light"
          }
        }
      ]
    },
    {
      "cell_type": "code",
      "source": [
        "#7. Draw the line plot between Age and Concession. Observe the trend line.\n",
        "plt.plot(df['Age'].head(10), df['Concession'].head(10), marker = 'o', color = 'red')"
      ],
      "metadata": {
        "colab": {
          "base_uri": "https://localhost:8080/",
          "height": 282
        },
        "id": "meX1vU6KgYr1",
        "outputId": "5e2e68dd-d347-42c7-a49f-25ff98729330"
      },
      "execution_count": null,
      "outputs": [
        {
          "output_type": "execute_result",
          "data": {
            "text/plain": [
              "[<matplotlib.lines.Line2D at 0x7f7f41e89d60>]"
            ]
          },
          "metadata": {},
          "execution_count": 7
        },
        {
          "output_type": "display_data",
          "data": {
            "text/plain": [
              "<Figure size 432x288 with 1 Axes>"
            ],
            "image/png": "[encoded data removed]"
          },
          "metadata": {
            "needs_background": "light"
          }
        }
      ]
    },
    {
      "cell_type": "code",
      "source": [
        "#8. Draw the scatter plot between Fare and New_Fare. Observe the correlation\n",
        "x = df['Fare']\n",
        "y = df['New_Fare']\n",
        "plt.scatter(x, y, c = 'red')"
      ],
      "metadata": {
        "colab": {
          "base_uri": "https://localhost:8080/",
          "height": 282
        },
        "id": "KgmGMJK1gnyK",
        "outputId": "8b95f5fe-505c-4728-826e-8bb58e29c5fc"
      },
      "execution_count": null,
      "outputs": [
        {
          "output_type": "execute_result",
          "data": {
            "text/plain": [
              "<matplotlib.collections.PathCollection at 0x7f7f41e67d30>"
            ]
          },
          "metadata": {},
          "execution_count": 8
        },
        {
          "output_type": "display_data",
          "data": {
            "text/plain": [
              "<Figure size 432x288 with 1 Axes>"
            ],
            "image/png": "[encoded data removed]"
          },
          "metadata": {
            "needs_background": "light"
          }
        }
      ]
    },
    {
      "cell_type": "code",
      "source": [
        "#9. Draw the scatter plot between Age and Fare. Observe the correlation\n",
        "x = df['Age']\n",
        "y = df['Fare']\n",
        "plt.scatter(x, y, c = 'red')"
      ],
      "metadata": {
        "colab": {
          "base_uri": "https://localhost:8080/",
          "height": 282
        },
        "id": "awk8g1kog4ly",
        "outputId": "03545230-d033-481f-8e26-e4597bb3ca6d"
      },
      "execution_count": null,
      "outputs": [
        {
          "output_type": "execute_result",
          "data": {
            "text/plain": [
              "<matplotlib.collections.PathCollection at 0x7f7f41df5100>"
            ]
          },
          "metadata": {},
          "execution_count": 9
        },
        {
          "output_type": "display_data",
          "data": {
            "text/plain": [
              "<Figure size 432x288 with 1 Axes>"
            ],
            "image/png": "[encoded data removed]"
          },
          "metadata": {
            "needs_background": "light"
          }
        }
      ]
    },
    {
      "cell_type": "code",
      "source": [
        "#10 Draw the box plot to show the statistical summary of Age column and verify with describe()\n",
        "import matplotlib.pyplot as plt\n",
        "plt.boxplot(df['Age']);\n",
        "df['Age'].describe()"
      ],
      "metadata": {
        "colab": {
          "base_uri": "https://localhost:8080/",
          "height": 421
        },
        "id": "Oj7IJ-C_fK-8",
        "outputId": "a6a21b9a-5437-483d-808b-0cca71e907b9"
      },
      "execution_count": null,
      "outputs": [
        {
          "output_type": "execute_result",
          "data": {
            "text/plain": [
              "count    25.000000\n",
              "mean     36.160000\n",
              "std      11.130588\n",
              "min      20.000000\n",
              "25%      26.000000\n",
              "50%      35.000000\n",
              "75%      43.000000\n",
              "max      58.000000\n",
              "Name: Age, dtype: float64"
            ]
          },
          "metadata": {},
          "execution_count": 4
        },
        {
          "output_type": "display_data",
          "data": {
            "text/plain": [
              "<Figure size 432x288 with 1 Axes>"
            ],
            "image/png": "[encoded data removed]"
          },
          "metadata": {
            "needs_background": "light"
          }
        }
      ]
    },
    {
      "cell_type": "code",
      "source": [
        "#11. Draw the histogram plot for Concession column\n",
        "plt.hist(df['Concession']);"
      ],
      "metadata": {
        "colab": {
          "base_uri": "https://localhost:8080/",
          "height": 265
        },
        "id": "aSyjs9bafc8J",
        "outputId": "e29d92b4-41a1-4335-ae98-9f05483d4ce0"
      },
      "execution_count": null,
      "outputs": [
        {
          "output_type": "display_data",
          "data": {
            "text/plain": [
              "<Figure size 432x288 with 1 Axes>"
            ],
            "image/png": "[encoded data removed]"
          },
          "metadata": {
            "needs_background": "light"
          }
        }
      ]
    },
    {
      "cell_type": "code",
      "source": [
        "#12. Draw the histogram plot for Concession column with bin value and PDF\n",
        "plt.hist(df['Concession'], edgecolor = 'white', bins = 5, density = True);"
      ],
      "metadata": {
        "colab": {
          "base_uri": "https://localhost:8080/",
          "height": 265
        },
        "id": "Gmzwg1VOgD8y",
        "outputId": "f6d75bd4-5ede-4eaa-ed02-8cc45d9e3cc0"
      },
      "execution_count": null,
      "outputs": [
        {
          "output_type": "display_data",
          "data": {
            "text/plain": [
              "<Figure size 432x288 with 1 Axes>"
            ],
            "image/png": "[encoded data removed]"
          },
          "metadata": {
            "needs_background": "light"
          }
        }
      ]
    }
  ]
}